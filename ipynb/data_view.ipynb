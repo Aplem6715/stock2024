{
 "cells": [
  {
   "cell_type": "code",
   "execution_count": 18,
   "metadata": {},
   "outputs": [],
   "source": [
    "import pandas as pd"
   ]
  },
  {
   "cell_type": "code",
   "execution_count": 19,
   "metadata": {},
   "outputs": [],
   "source": [
    "df = pd.read_csv('Data/JPX/csv/stock_tick_202301.csv')"
   ]
  },
  {
   "cell_type": "code",
   "execution_count": 3,
   "metadata": {},
   "outputs": [
    {
     "data": {
      "text/plain": [
       "Index(['date', 'issue code', 'isin code', 'exchange code',\n",
       "       'issue classification', 'industry code',\n",
       "       'securities under supervision and to be delisted flag', 'time',\n",
       "       'session distinction', 'price', 'trading volume', 'transaction id'],\n",
       "      dtype='object')"
      ]
     },
     "execution_count": 3,
     "metadata": {},
     "output_type": "execute_result"
    }
   ],
   "source": [
    "df.columns"
   ]
  },
  {
   "cell_type": "code",
   "execution_count": 4,
   "metadata": {},
   "outputs": [
    {
     "data": {
      "text/plain": [
       "0.25     115775.0\n",
       "0.50     638550.0\n",
       "0.75    2714075.0\n",
       "Name: trading volume, dtype: float64"
      ]
     },
     "execution_count": 4,
     "metadata": {},
     "output_type": "execute_result"
    }
   ],
   "source": [
    "# issue_codeごとにグループ分けして，それぞれのグループでのtrading_volumeの合計を計算\n",
    "vol_sum = df.groupby('issue code')['trading volume'].sum()\n",
    "vol_sum.quantile([0.25, 0.5, 0.75])"
   ]
  },
  {
   "cell_type": "code",
   "execution_count": 5,
   "metadata": {},
   "outputs": [
    {
     "data": {
      "text/plain": [
       "0.10       24072.8\n",
       "0.25      115775.0\n",
       "0.50      638550.0\n",
       "0.75     2714075.0\n",
       "0.90    11797880.0\n",
       "Name: trading volume, dtype: float64"
      ]
     },
     "execution_count": 5,
     "metadata": {},
     "output_type": "execute_result"
    }
   ],
   "source": [
    "\n",
    "vol_sum.quantile([0.1, 0.25, 0.5, 0.75, 0.9])"
   ]
  },
  {
   "cell_type": "code",
   "execution_count": 20,
   "metadata": {},
   "outputs": [
    {
     "data": {
      "text/plain": [
       "218"
      ]
     },
     "execution_count": 20,
     "metadata": {},
     "output_type": "execute_result"
    }
   ],
   "source": [
    "# 'trading volume'が5000万以上のグループ数\n",
    "vol_sum[vol_sum >= 2500_0000].count()"
   ]
  },
  {
   "cell_type": "code",
   "execution_count": 21,
   "metadata": {},
   "outputs": [
    {
     "data": {
      "text/plain": [
       "<Axes: >"
      ]
     },
     "execution_count": 21,
     "metadata": {},
     "output_type": "execute_result"
    },
    {
     "data": {
      "image/png": "[encoded data removed]",
      "text/plain": [
       "<Figure size 640x480 with 1 Axes>"
      ]
     },
     "metadata": {},
     "output_type": "display_data"
    }
   ],
   "source": [
    "vol_sum[vol_sum >= 2500_0000].hist(bins=100)"
   ]
  },
  {
   "cell_type": "code",
   "execution_count": 8,
   "metadata": {},
   "outputs": [
    {
     "data": {
      "text/plain": [
       "Index([13570, 13600, 14590, 15700, 16050, 16150, 16550, 16890, 19280, 23530,\n",
       "       ...\n",
       "       92010, 92270, 93180, 94320, 94330, 94340, 95010, 95030, 98310, 99840],\n",
       "      dtype='int64', name='issue code', length=113)"
      ]
     },
     "execution_count": 8,
     "metadata": {},
     "output_type": "execute_result"
    }
   ],
   "source": [
    "# 'trading volume'が5000万以上のissue codeを取得\n",
    "vol_sum[vol_sum >= 2500_0000].index"
   ]
  },
  {
   "cell_type": "code",
   "execution_count": 22,
   "metadata": {},
   "outputs": [],
   "source": [
    "out = vol_sum[vol_sum >= 2500_0000].index.to_list()\n",
    "# pickleでファイルに出力\n",
    "import pickle\n",
    "with open('Data/issue_codes_2500_0000_over.pickle', 'wb') as f:\n",
    "    pickle.dump(out, f)"
   ]
  },
  {
   "cell_type": "code",
   "execution_count": 24,
   "metadata": {},
   "outputs": [
    {
     "name": "stdout",
     "output_type": "stream",
     "text": [
      "[13060, 13570, 13600, 14590, 15140, 15520, 15700, 16050, 16150, 16550, 16890, 18020, 18030, 19250, 19280, 21270, 23530, 23700, 24130, 24710, 24840, 25020, 25030, 25630, 28020, 29140, 29300, 30030, 30640, 30860, 30990, 31330, 32890, 33820, 34020, 34070, 34360, 35630, 36560, 36590, 36600, 36640, 37770, 38610, 38960, 39030, 39110, 39350, 40050, 40630, 41650, 41800, 41880, 42630, 43070, 43440, 43850, 44430, 44770, 45020, 45030, 45070, 45190, 45230, 45280, 45360, 45410, 45430, 45630, 45680, 45750, 45830, 45860, 45910, 45940, 45970, 46120, 46800, 46890, 47510, 47550, 49020, 49110, 50200, 51080, 51290, 51370, 52020, 52400, 52430, 52460, 53340, 54010, 54060, 54080, 54110, 57130, 57260, 57270, 58020, 58030, 58310, 59860, 60980, 61780, 61810, 63010, 63260, 64710, 64720, 64790, 65010, 65030, 65060, 65260, 65320, 65940, 66190, 66320, 67230, 67240, 67400, 67520, 67530, 67580, 67620, 67700, 68570, 68900, 69020, 69200, 69760, 69810, 70110, 70120, 71670, 71800, 71820, 71840, 71860, 72010, 72020, 72030, 72050, 72110, 72610, 72670, 72690, 72700, 72720, 74530, 75320, 76100, 76470, 77310, 77330, 77510, 77520, 77620, 77760, 79740, 80010, 80020, 80310, 80530, 80580, 82330, 82670, 83040, 83060, 83080, 83090, 83160, 83310, 83340, 83590, 84100, 84110, 84730, 85150, 85240, 85720, 85910, 85930, 86010, 86040, 86980, 87140, 87500, 87660, 87890, 87950, 88010, 88020, 88480, 89180, 91010, 91040, 91070, 92010, 92020, 92270, 93180, 94240, 94320, 94330, 94340, 95010, 95020, 95030, 95040, 95060, 95080, 95190, 95310, 96130, 98310, 99840]\n"
     ]
    }
   ],
   "source": [
    "# ロードして確認\n",
    "with open('Data/issue_codes_2500_0000_over.pickle', 'rb') as f:\n",
    "    out = pickle.load(f)\n",
    "    print(out)"
   ]
  },
  {
   "cell_type": "code",
   "execution_count": 25,
   "metadata": {},
   "outputs": [],
   "source": [
    "df = df[df['issue code'].isin(out)]"
   ]
  },
  {
   "cell_type": "code",
   "execution_count": 26,
   "metadata": {},
   "outputs": [
    {
     "data": {
      "text/plain": [
       "779"
      ]
     },
     "execution_count": 26,
     "metadata": {},
     "output_type": "execute_result"
    }
   ],
   "source": [
    "import gc\n",
    "gc.collect()"
   ]
  },
  {
   "cell_type": "code",
   "execution_count": 27,
   "metadata": {},
   "outputs": [
    {
     "data": {
      "text/plain": [
       "(18081106, 12)"
      ]
     },
     "execution_count": 27,
     "metadata": {},
     "output_type": "execute_result"
    }
   ],
   "source": [
    "df.shape"
   ]
  },
  {
   "cell_type": "code",
   "execution_count": 14,
   "metadata": {},
   "outputs": [
    {
     "data": {
      "text/plain": [
       "Index(['date', 'issue code', 'isin code', 'exchange code',\n",
       "       'issue classification', 'industry code',\n",
       "       'securities under supervision and to be delisted flag', 'time',\n",
       "       'session distinction', 'price', 'trading volume', 'transaction id'],\n",
       "      dtype='object')"
      ]
     },
     "execution_count": 14,
     "metadata": {},
     "output_type": "execute_result"
    }
   ],
   "source": [
    "df.columns"
   ]
  },
  {
   "cell_type": "code",
   "execution_count": 28,
   "metadata": {},
   "outputs": [
    {
     "data": {
      "text/plain": [
       "(18081106, 5)"
      ]
     },
     "execution_count": 28,
     "metadata": {},
     "output_type": "execute_result"
    }
   ],
   "source": [
    "# date, issue code, time, price, trading volume列のみを抽出\n",
    "df = df[['date', 'issue code', 'time', 'price', 'trading volume']]\n",
    "df.shape"
   ]
  },
  {
   "cell_type": "code",
   "execution_count": 29,
   "metadata": {},
   "outputs": [
    {
     "data": {
      "text/plain": [
       "0"
      ]
     },
     "execution_count": 29,
     "metadata": {},
     "output_type": "execute_result"
    }
   ],
   "source": [
    "gc.collect()"
   ]
  },
  {
   "cell_type": "code",
   "execution_count": 30,
   "metadata": {},
   "outputs": [],
   "source": [
    "df.to_parquet('Data/Filtered/202301.parquet', index=False)"
   ]
  },
  {
   "cell_type": "code",
   "execution_count": null,
   "metadata": {},
   "outputs": [],
   "source": []
  }
 ],
 "metadata": {
  "kernelspec": {
   "display_name": "trade2023",
   "language": "python",
   "name": "python3"
  },
  "language_info": {
   "codemirror_mode": {
    "name": "ipython",
    "version": 3
   },
   "file_extension": ".py",
   "mimetype": "text/x-python",
   "name": "python",
   "nbconvert_exporter": "python",
   "pygments_lexer": "ipython3",
   "version": "3.11.4"
  }
 },
 "nbformat": 4,
 "nbformat_minor": 2
}
