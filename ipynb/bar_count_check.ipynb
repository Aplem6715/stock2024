{
 "cells": [
  {
   "cell_type": "code",
   "execution_count": 3,
   "metadata": {},
   "outputs": [],
   "source": [
    "import pandas as pd\n",
    "\n",
    "df = pd.read_parquet('Data/Bar/16050.parquet')"
   ]
  },
  {
   "cell_type": "code",
   "execution_count": 4,
   "metadata": {},
   "outputs": [
    {
     "data": {
      "text/plain": [
       "Index(['Open', 'High', 'Low', 'Close', 'Volume'], dtype='object')"
      ]
     },
     "execution_count": 4,
     "metadata": {},
     "output_type": "execute_result"
    }
   ],
   "source": [
    "df.columns"
   ]
  },
  {
   "cell_type": "code",
   "execution_count": 5,
   "metadata": {},
   "outputs": [
    {
     "data": {
      "text/plain": [
       "DatetimeIndex(['2000-01-01 00:00:00', '2000-01-01 00:01:00',\n",
       "               '2000-01-01 00:02:00', '2000-01-01 00:03:00',\n",
       "               '2000-01-01 00:04:00', '2000-01-01 00:05:00',\n",
       "               '2000-01-01 00:06:00', '2000-01-01 00:07:00',\n",
       "               '2000-01-01 00:08:00', '2000-01-01 00:09:00',\n",
       "               ...\n",
       "               '2000-01-11 19:40:00', '2000-01-11 19:41:00',\n",
       "               '2000-01-11 19:42:00', '2000-01-11 19:43:00',\n",
       "               '2000-01-11 19:44:00', '2000-01-11 19:45:00',\n",
       "               '2000-01-11 19:46:00', '2000-01-11 19:47:00',\n",
       "               '2000-01-11 19:48:00', '2000-01-11 19:49:00'],\n",
       "              dtype='datetime64[ns]', length=15590, freq=None)"
      ]
     },
     "execution_count": 5,
     "metadata": {},
     "output_type": "execute_result"
    }
   ],
   "source": [
    "df.index"
   ]
  },
  {
   "cell_type": "code",
   "execution_count": 10,
   "metadata": {},
   "outputs": [
    {
     "data": {
      "text/plain": [
       "[Timestamp('2000-01-01 00:00:00'),\n",
       " Timestamp('2000-01-01 00:01:00'),\n",
       " Timestamp('2000-01-01 00:02:00'),\n",
       " Timestamp('2000-01-01 00:03:00'),\n",
       " Timestamp('2000-01-01 00:04:00'),\n",
       " Timestamp('2000-01-01 00:05:00'),\n",
       " Timestamp('2000-01-01 00:06:00'),\n",
       " Timestamp('2000-01-01 00:07:00'),\n",
       " Timestamp('2000-01-01 00:08:00'),\n",
       " Timestamp('2000-01-01 00:09:00')]"
      ]
     },
     "execution_count": 10,
     "metadata": {},
     "output_type": "execute_result"
    }
   ],
   "source": [
    "time_list = df.index.tolist()\n",
    "time_list[:10]"
   ]
  },
  {
   "cell_type": "code",
   "execution_count": 11,
   "metadata": {},
   "outputs": [
    {
     "data": {
      "text/plain": [
       "[Timestamp('2000-01-11 19:40:00'),\n",
       " Timestamp('2000-01-11 19:41:00'),\n",
       " Timestamp('2000-01-11 19:42:00'),\n",
       " Timestamp('2000-01-11 19:43:00'),\n",
       " Timestamp('2000-01-11 19:44:00'),\n",
       " Timestamp('2000-01-11 19:45:00'),\n",
       " Timestamp('2000-01-11 19:46:00'),\n",
       " Timestamp('2000-01-11 19:47:00'),\n",
       " Timestamp('2000-01-11 19:48:00'),\n",
       " Timestamp('2000-01-11 19:49:00')]"
      ]
     },
     "execution_count": 11,
     "metadata": {},
     "output_type": "execute_result"
    }
   ],
   "source": [
    "time_list[-10:]"
   ]
  },
  {
   "cell_type": "code",
   "execution_count": 12,
   "metadata": {},
   "outputs": [
    {
     "data": {
      "text/plain": [
       "(15590, 5)"
      ]
     },
     "execution_count": 12,
     "metadata": {},
     "output_type": "execute_result"
    }
   ],
   "source": [
    "df.shape"
   ]
  },
  {
   "cell_type": "code",
   "execution_count": 15,
   "metadata": {},
   "outputs": [
    {
     "data": {
      "text/plain": [
       "15590"
      ]
     },
     "execution_count": 15,
     "metadata": {},
     "output_type": "execute_result"
    }
   ],
   "source": [
    "10*24*60+19*60+49+1 # 10 days, 19 hours, 49 minutes, 49 seconds + 19:00:00の分1"
   ]
  },
  {
   "cell_type": "code",
   "execution_count": null,
   "metadata": {},
   "outputs": [],
   "source": []
  }
 ],
 "metadata": {
  "kernelspec": {
   "display_name": "trade",
   "language": "python",
   "name": "python3"
  },
  "language_info": {
   "codemirror_mode": {
    "name": "ipython",
    "version": 3
   },
   "file_extension": ".py",
   "mimetype": "text/x-python",
   "name": "python",
   "nbconvert_exporter": "python",
   "pygments_lexer": "ipython3",
   "version": "3.11.4"
  }
 },
 "nbformat": 4,
 "nbformat_minor": 2
}
